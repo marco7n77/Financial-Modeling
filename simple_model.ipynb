{
 "cells": [
  {
   "cell_type": "markdown",
   "metadata": {},
   "source": [
    "## Inputs\n",
    "Inputs defined below"
   ]
  },
  {
   "cell_type": "code",
   "execution_count": 3,
   "metadata": {},
   "outputs": [],
   "source": [
    "salary = 60000\n",
    "savings_rate = .25\n",
    "investment_rate = .05\n",
    "desired_cash = 1500000"
   ]
  },
  {
   "cell_type": "markdown",
   "metadata": {},
   "source": [
    "## Determing Cash Saved"
   ]
  },
  {
   "cell_type": "code",
   "execution_count": 4,
   "metadata": {},
   "outputs": [],
   "source": [
    "annual_cash = salary * savings_rate"
   ]
  },
  {
   "cell_type": "code",
   "execution_count": 5,
   "metadata": {},
   "outputs": [
    {
     "name": "stdout",
     "output_type": "stream",
     "text": [
      "15000.0\n"
     ]
    }
   ],
   "source": [
    "print(annual_cash)"
   ]
  },
  {
   "cell_type": "code",
   "execution_count": 6,
   "metadata": {},
   "outputs": [
    {
     "data": {
      "text/plain": [
       "15000.0"
      ]
     },
     "execution_count": 6,
     "metadata": {},
     "output_type": "execute_result"
    }
   ],
   "source": [
    "annual_cash"
   ]
  },
  {
   "cell_type": "markdown",
   "metadata": {},
   "source": [
    "## Years to Retirement"
   ]
  },
  {
   "cell_type": "code",
   "execution_count": 14,
   "metadata": {},
   "outputs": [],
   "source": [
    "import numpy_financial as npf"
   ]
  },
  {
   "cell_type": "code",
   "execution_count": 16,
   "metadata": {},
   "outputs": [
    {
     "data": {
      "text/plain": [
       "array(36.72378439)"
      ]
     },
     "execution_count": 16,
     "metadata": {},
     "output_type": "execute_result"
    }
   ],
   "source": [
    "npf.nper(investment_rate, -annual_cash, 0, desired_cash)"
   ]
  },
  {
   "cell_type": "code",
   "execution_count": 20,
   "metadata": {},
   "outputs": [
    {
     "name": "stdout",
     "output_type": "stream",
     "text": [
      "Martha will retire in 36.72 years.\n"
     ]
    }
   ],
   "source": [
    "print(f\"Martha will retire in {npf.nper(investment_rate, -annual_cash, 0, desired_cash):.2f} years.\")"
   ]
  },
  {
   "cell_type": "markdown",
   "metadata": {},
   "source": [
    "## Multiple Interest Rates"
   ]
  },
  {
   "cell_type": "code",
   "execution_count": 22,
   "metadata": {},
   "outputs": [
    {
     "name": "stdout",
     "output_type": "stream",
     "text": [
      "Martha will retire in 33.40 years.\n",
      "Martha will retire in 30.73 years.\n",
      "Martha will retire in 28.55 years.\n",
      "Martha will retire in 26.72 years.\n",
      "Martha will retire in 25.16 years.\n"
     ]
    }
   ],
   "source": [
    "investment_rates = [.06, .07, .08, .09, .10]\n",
    "for i in investment_rates:\n",
    "    print(f\"Martha will retire in {npf.nper(i, -annual_cash, 0, desired_cash):.2f} years.\")"
   ]
  },
  {
   "cell_type": "markdown",
   "metadata": {},
   "source": [
    "## Multiple Interest Ratea and Multiple Savings Rates"
   ]
  },
  {
   "cell_type": "code",
   "execution_count": 26,
   "metadata": {},
   "outputs": [
    {
     "name": "stdout",
     "output_type": "stream",
     "text": [
      "With a savings rate of 10.0% and an investment rate of 4.0%, Martha will retire in 61.14 years.\n",
      "With a savings rate of 25.0% and an investment rate of 4.0%, Martha will retire in 41.04 years.\n",
      "With a savings rate of 40.0% and an investment rate of 4.0%, Martha will retire in 31.94 years.\n",
      "With a savings rate of 10.0% and an investment rate of 5.0%, Martha will retire in 53.34 years.\n",
      "With a savings rate of 25.0% and an investment rate of 5.0%, Martha will retire in 36.72 years.\n",
      "With a savings rate of 40.0% and an investment rate of 5.0%, Martha will retire in 29.04 years.\n",
      "With a savings rate of 10.0% and an investment rate of 6.0%, Martha will retire in 47.58 years.\n",
      "With a savings rate of 25.0% and an investment rate of 6.0%, Martha will retire in 33.40 years.\n",
      "With a savings rate of 40.0% and an investment rate of 6.0%, Martha will retire in 26.74 years.\n"
     ]
    }
   ],
   "source": [
    "investment_rates = [.04, .05, .06]\n",
    "savings_rates = [.1, .25, .4]\n",
    "for i in investment_rates:\n",
    "    for j in savings_rates:\n",
    "        annual_cash = salary * j\n",
    "        print(f\"With a savings rate of {j * 100}% and an investment rate of {i*100}%, Martha will retire in {npf.nper(i, -annual_cash, 0, desired_cash):.2f} years.\")"
   ]
  }
 ],
 "metadata": {
  "kernelspec": {
   "display_name": "myenv",
   "language": "python",
   "name": "python3"
  },
  "language_info": {
   "codemirror_mode": {
    "name": "ipython",
    "version": 3
   },
   "file_extension": ".py",
   "mimetype": "text/x-python",
   "name": "python",
   "nbconvert_exporter": "python",
   "pygments_lexer": "ipython3",
   "version": "3.10.16"
  }
 },
 "nbformat": 4,
 "nbformat_minor": 2
}
