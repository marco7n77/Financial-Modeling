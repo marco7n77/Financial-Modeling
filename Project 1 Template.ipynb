{
 "cells": [
  {
   "cell_type": "markdown",
   "metadata": {},
   "source": [
    "# Machines Manufacturing Captal Budgeting Model (Project 1)\n",
    "\n",
    "Insert your description of the model here and add any additional sections below:\n",
    "- [**Setup**](#Setup): Runs any imports and other setup\n",
    "- [**Inputs**](#Inputs): Defines the inputs for the model"
   ]
  },
  {
   "cell_type": "markdown",
   "metadata": {},
   "source": [
    "## Setup\n",
    "\n",
    "Setup for the later calculations are here. The necessary packages are imported."
   ]
  },
  {
   "cell_type": "code",
   "execution_count": 1,
   "metadata": {},
   "outputs": [],
   "source": [
    "from dataclasses import dataclass\n",
    "import numpy_financial as npf"
   ]
  },
  {
   "cell_type": "markdown",
   "metadata": {},
   "source": [
    "## Inputs\n",
    "\n",
    "All of the inputs for the model are defined here. A class is constructed to manage the data, and an instance of the class containing the default inputs is created."
   ]
  },
  {
   "cell_type": "code",
   "execution_count": 40,
   "metadata": {},
   "outputs": [],
   "source": [
    "@dataclass\n",
    "class ModelInputs:\n",
    "    n_phones: float = 100000\n",
    "    price_scrap: float = 50000\n",
    "    price_phone: float = 500\n",
    "    cost_machine_adv: float = 1000000\n",
    "    cogs_phone: float = 250\n",
    "    n_life: int = 10\n",
    "    n_machines: int = 5\n",
    "    d_1: float = 100000\n",
    "    g_d: float = 0.2\n",
    "    max_year: float = 20\n",
    "    interest: float = 0.05\n",
    "        \n",
    "    # Inputs for bonus problem\n",
    "    elasticity: float = 100\n",
    "    demand_constant: float = 300000\n",
    "        \n",
    "model_data = ModelInputs()\n",
    "data = model_data"
   ]
  },
  {
   "cell_type": "markdown",
   "metadata": {},
   "source": [
    "## Machine"
   ]
  },
  {
   "cell_type": "code",
   "execution_count": 13,
   "metadata": {},
   "outputs": [],
   "source": [
    "def find_amount_machines(data, year):\n",
    "    machines = 0\n",
    "    for i in range(year):\n",
    "        years = i + 1\n",
    "        if (machines < data.n_machines) and (years < data.n_life):\n",
    "            machines +=1\n",
    "        elif (data.n_life < years < data.n_life + data.n_machines + 1):\n",
    "            machines -= 1\n",
    "    return machines"
   ]
  },
  {
   "cell_type": "code",
   "execution_count": 12,
   "metadata": {},
   "outputs": [],
   "source": [
    "def find_production(data, year):\n",
    "    return data.n_phones * find_amount_machines(data, year)"
   ]
  },
  {
   "cell_type": "code",
   "execution_count": null,
   "metadata": {},
   "outputs": [],
   "source": [
    "def find_scrapping(data, year):\n",
    "    if data.n_life < year < data.n_life + data.n_machines + 1:\n",
    "        return data.price_scrap\n",
    "    else:\n",
    "        return 0"
   ]
  },
  {
   "cell_type": "markdown",
   "metadata": {},
   "source": [
    "## CashFlow"
   ]
  },
  {
   "cell_type": "code",
   "execution_count": 20,
   "metadata": {},
   "outputs": [],
   "source": [
    "def find_advertising(data, year):\n",
    "    if year > data.n_machines:\n",
    "        return 1\n",
    "    else:\n",
    "        return 0"
   ]
  },
  {
   "cell_type": "code",
   "execution_count": 36,
   "metadata": {},
   "outputs": [],
   "source": [
    "def find_demand(data, year):\n",
    "    demand = data.d_1\n",
    "    for i in range(1, year+1):\n",
    "        demand = demand * (1 + (data.g_d * find_advertising(data, i)))\n",
    "    return demand"
   ]
  },
  {
   "cell_type": "code",
   "execution_count": 39,
   "metadata": {},
   "outputs": [],
   "source": [
    "def find_phones_bought(data, year):\n",
    "    return min(find_production(data, year), find_demand(data, year))"
   ]
  },
  {
   "cell_type": "code",
   "execution_count": 45,
   "metadata": {},
   "outputs": [],
   "source": [
    "def find_revenue(data, year):\n",
    "    phones_bought = find_phones_bought(data, year)\n",
    "    return data.price_phone * phones_bought + find_scrapping(data, year)"
   ]
  },
  {
   "cell_type": "code",
   "execution_count": 44,
   "metadata": {},
   "outputs": [
    {
     "name": "stdout",
     "output_type": "stream",
     "text": [
      "The revenue for the year 1 was 26000000\n",
      "The revenue for the year 2 was 26000000.0\n",
      "The revenue for the year 3 was 26000000.0\n",
      "The revenue for the year 4 was 26000000.0\n",
      "The revenue for the year 5 was 26000000.0\n",
      "The revenue for the year 6 was 31000000.0\n",
      "The revenue for the year 7 was 37000000.0\n",
      "The revenue for the year 8 was 44200000.0\n",
      "The revenue for the year 9 was 52840000.0\n",
      "The revenue for the year 10 was 63208000.0\n",
      "The revenue for the year 11 was 75649599.99999999\n",
      "The revenue for the year 12 was 76000000\n",
      "The revenue for the year 13 was 51000000\n",
      "The revenue for the year 14 was 26000000\n",
      "The revenue for the year 15 was 1000000\n",
      "The revenue for the year 16 was 1000000\n",
      "The revenue for the year 17 was 1000000\n",
      "The revenue for the year 18 was 1000000\n",
      "The revenue for the year 19 was 1000000\n",
      "The revenue for the year 20 was 1000000\n"
     ]
    }
   ],
   "source": [
    "def find_costs(data, year):\n",
    "    return data.cogs_phone * find_phones_bought(data, year) + data.cost_machine_adv\n"
   ]
  },
  {
   "cell_type": "code",
   "execution_count": 61,
   "metadata": {},
   "outputs": [],
   "source": [
    "def find_cashflow(data, year = data.max_year):\n",
    "    return find_revenue(data, year) - find_costs(data, year)"
   ]
  },
  {
   "cell_type": "code",
   "execution_count": 62,
   "metadata": {},
   "outputs": [],
   "source": [
    "cash_flows = [find_cashflow(data, i) for i in range(1, data.max_year + 1) ]\n",
    "npv = npf.npv(data.interest, cash_flows)"
   ]
  },
  {
   "cell_type": "code",
   "execution_count": 63,
   "metadata": {},
   "outputs": [
    {
     "data": {
      "text/plain": [
       "387740369.5978611"
      ]
     },
     "execution_count": 63,
     "metadata": {},
     "output_type": "execute_result"
    }
   ],
   "source": [
    "npv"
   ]
  },
  {
   "cell_type": "code",
   "execution_count": 64,
   "metadata": {},
   "outputs": [],
   "source": [
    "def cashflow_seperate_args(**kwargs):\n",
    "    data = ModelInputs(**kwargs)\n",
    "    return find_cashflow(data)"
   ]
  },
  {
   "cell_type": "code",
   "execution_count": null,
   "metadata": {},
   "outputs": [],
   "source": [
    "sensitivity_values = {\n",
    "    \"n_phones\": [i *10000 for i in range(6, 12)],\n",
    "    \"price_scrap\": [i * 10000 for i in range(3, 7)],\n",
    "    \n",
    "}"
   ]
  }
 ],
 "metadata": {
  "kernelspec": {
   "display_name": "myenv",
   "language": "python",
   "name": "python3"
  },
  "language_info": {
   "codemirror_mode": {
    "name": "ipython",
    "version": 3
   },
   "file_extension": ".py",
   "mimetype": "text/x-python",
   "name": "python",
   "nbconvert_exporter": "python",
   "pygments_lexer": "ipython3",
   "version": "3.10.16"
  }
 },
 "nbformat": 4,
 "nbformat_minor": 4
}
