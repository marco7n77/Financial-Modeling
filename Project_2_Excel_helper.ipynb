{
 "cells": [
  {
   "cell_type": "code",
   "execution_count": 26,
   "metadata": {},
   "outputs": [],
   "source": [
    "import pandas as pd\n",
    "import xlwings as xw"
   ]
  },
  {
   "cell_type": "code",
   "execution_count": 2,
   "metadata": {},
   "outputs": [],
   "source": [
    "book = xw.Book(\"Probalistic Loan IRR.xlsx\")"
   ]
  },
  {
   "cell_type": "code",
   "execution_count": 3,
   "metadata": {},
   "outputs": [
    {
     "data": {
      "text/plain": [
       "Sheets([<Sheet [Probalistic Loan IRR.xlsx]Inputs and Outputs>, <Sheet [Probalistic Loan IRR.xlsx]P default>, <Sheet [Probalistic Loan IRR.xlsx]Cash Flow>])"
      ]
     },
     "execution_count": 3,
     "metadata": {},
     "output_type": "execute_result"
    }
   ],
   "source": [
    "book.sheets"
   ]
  },
  {
   "cell_type": "code",
   "execution_count": 4,
   "metadata": {},
   "outputs": [],
   "source": [
    "sht = book.sheets[0]"
   ]
  },
  {
   "cell_type": "code",
   "execution_count": 59,
   "metadata": {},
   "outputs": [
    {
     "data": {
      "application/vnd.microsoft.datawrangler.viewer.v0+json": {
       "columns": [
        {
         "name": "index",
         "rawType": "int64",
         "type": "integer"
        },
        {
         "name": "None",
         "rawType": "float64",
         "type": "float"
        }
       ],
       "conversionMethod": "pd.DataFrame",
       "ref": "462b8a1c-0776-42ab-8918-d5d1ddb61d4f",
       "rows": [
        [
         "0",
         "0.3"
        ],
        [
         "1",
         "0.3"
        ],
        [
         "2",
         "0.3"
        ],
        [
         "3",
         "0.3"
        ],
        [
         "4",
         "0.3"
        ],
        [
         "5",
         "0.3"
        ],
        [
         "6",
         "0.3"
        ],
        [
         "7",
         "0.3"
        ],
        [
         "8",
         "0.3"
        ],
        [
         "9",
         "0.35"
        ],
        [
         "10",
         "0.35"
        ],
        [
         "11",
         "0.35"
        ],
        [
         "12",
         "0.35"
        ],
        [
         "13",
         "0.35"
        ],
        [
         "14",
         "0.35"
        ],
        [
         "15",
         "0.35"
        ],
        [
         "16",
         "0.35"
        ],
        [
         "17",
         "0.35"
        ],
        [
         "18",
         "0.4"
        ],
        [
         "19",
         "0.4"
        ],
        [
         "20",
         "0.4"
        ],
        [
         "21",
         "0.4"
        ],
        [
         "22",
         "0.4"
        ],
        [
         "23",
         "0.4"
        ],
        [
         "24",
         "0.4"
        ],
        [
         "25",
         "0.4"
        ],
        [
         "26",
         "0.4"
        ]
       ],
       "shape": {
        "columns": 1,
        "rows": 27
       }
      },
      "text/html": [
       "<div>\n",
       "<style scoped>\n",
       "    .dataframe tbody tr th:only-of-type {\n",
       "        vertical-align: middle;\n",
       "    }\n",
       "\n",
       "    .dataframe tbody tr th {\n",
       "        vertical-align: top;\n",
       "    }\n",
       "\n",
       "    .dataframe thead th {\n",
       "        text-align: right;\n",
       "    }\n",
       "</style>\n",
       "<table border=\"1\" class=\"dataframe\">\n",
       "  <thead>\n",
       "    <tr style=\"text-align: right;\">\n",
       "      <th></th>\n",
       "      <th>None</th>\n",
       "    </tr>\n",
       "  </thead>\n",
       "  <tbody>\n",
       "    <tr>\n",
       "      <th>0</th>\n",
       "      <td>0.30</td>\n",
       "    </tr>\n",
       "    <tr>\n",
       "      <th>1</th>\n",
       "      <td>0.30</td>\n",
       "    </tr>\n",
       "    <tr>\n",
       "      <th>2</th>\n",
       "      <td>0.30</td>\n",
       "    </tr>\n",
       "    <tr>\n",
       "      <th>3</th>\n",
       "      <td>0.30</td>\n",
       "    </tr>\n",
       "    <tr>\n",
       "      <th>4</th>\n",
       "      <td>0.30</td>\n",
       "    </tr>\n",
       "    <tr>\n",
       "      <th>5</th>\n",
       "      <td>0.30</td>\n",
       "    </tr>\n",
       "    <tr>\n",
       "      <th>6</th>\n",
       "      <td>0.30</td>\n",
       "    </tr>\n",
       "    <tr>\n",
       "      <th>7</th>\n",
       "      <td>0.30</td>\n",
       "    </tr>\n",
       "    <tr>\n",
       "      <th>8</th>\n",
       "      <td>0.30</td>\n",
       "    </tr>\n",
       "    <tr>\n",
       "      <th>9</th>\n",
       "      <td>0.35</td>\n",
       "    </tr>\n",
       "    <tr>\n",
       "      <th>10</th>\n",
       "      <td>0.35</td>\n",
       "    </tr>\n",
       "    <tr>\n",
       "      <th>11</th>\n",
       "      <td>0.35</td>\n",
       "    </tr>\n",
       "    <tr>\n",
       "      <th>12</th>\n",
       "      <td>0.35</td>\n",
       "    </tr>\n",
       "    <tr>\n",
       "      <th>13</th>\n",
       "      <td>0.35</td>\n",
       "    </tr>\n",
       "    <tr>\n",
       "      <th>14</th>\n",
       "      <td>0.35</td>\n",
       "    </tr>\n",
       "    <tr>\n",
       "      <th>15</th>\n",
       "      <td>0.35</td>\n",
       "    </tr>\n",
       "    <tr>\n",
       "      <th>16</th>\n",
       "      <td>0.35</td>\n",
       "    </tr>\n",
       "    <tr>\n",
       "      <th>17</th>\n",
       "      <td>0.35</td>\n",
       "    </tr>\n",
       "    <tr>\n",
       "      <th>18</th>\n",
       "      <td>0.40</td>\n",
       "    </tr>\n",
       "    <tr>\n",
       "      <th>19</th>\n",
       "      <td>0.40</td>\n",
       "    </tr>\n",
       "    <tr>\n",
       "      <th>20</th>\n",
       "      <td>0.40</td>\n",
       "    </tr>\n",
       "    <tr>\n",
       "      <th>21</th>\n",
       "      <td>0.40</td>\n",
       "    </tr>\n",
       "    <tr>\n",
       "      <th>22</th>\n",
       "      <td>0.40</td>\n",
       "    </tr>\n",
       "    <tr>\n",
       "      <th>23</th>\n",
       "      <td>0.40</td>\n",
       "    </tr>\n",
       "    <tr>\n",
       "      <th>24</th>\n",
       "      <td>0.40</td>\n",
       "    </tr>\n",
       "    <tr>\n",
       "      <th>25</th>\n",
       "      <td>0.40</td>\n",
       "    </tr>\n",
       "    <tr>\n",
       "      <th>26</th>\n",
       "      <td>0.40</td>\n",
       "    </tr>\n",
       "  </tbody>\n",
       "</table>\n",
       "</div>"
      ],
      "text/plain": [
       "    None\n",
       "0   0.30\n",
       "1   0.30\n",
       "2   0.30\n",
       "3   0.30\n",
       "4   0.30\n",
       "5   0.30\n",
       "6   0.30\n",
       "7   0.30\n",
       "8   0.30\n",
       "9   0.35\n",
       "10  0.35\n",
       "11  0.35\n",
       "12  0.35\n",
       "13  0.35\n",
       "14  0.35\n",
       "15  0.35\n",
       "16  0.35\n",
       "17  0.35\n",
       "18  0.40\n",
       "19  0.40\n",
       "20  0.40\n",
       "21  0.40\n",
       "22  0.40\n",
       "23  0.40\n",
       "24  0.40\n",
       "25  0.40\n",
       "26  0.40"
      ]
     },
     "execution_count": 59,
     "metadata": {},
     "output_type": "execute_result"
    }
   ],
   "source": [
    "interest_rates = sht.range(\"D16:D43\").options(pd.DataFrame, index = False).value\n",
    "interest_rates"
   ]
  },
  {
   "cell_type": "code",
   "execution_count": 83,
   "metadata": {},
   "outputs": [],
   "source": [
    "loan_lifes = sht.range(\"E16:E43\").options(pd.DataFrame, index = False).value"
   ]
  },
  {
   "cell_type": "code",
   "execution_count": 84,
   "metadata": {},
   "outputs": [],
   "source": [
    "initial_defaults = sht.range(\"F16:F43\").options(pd.DataFrame, index = False).value"
   ]
  },
  {
   "cell_type": "code",
   "execution_count": 85,
   "metadata": {},
   "outputs": [],
   "source": [
    "result = pd.concat([interest_rates, loan_lifes, initial_defaults], axis = 1, ignore_index=True)"
   ]
  },
  {
   "cell_type": "code",
   "execution_count": 86,
   "metadata": {},
   "outputs": [
    {
     "data": {
      "application/vnd.microsoft.datawrangler.viewer.v0+json": {
       "columns": [
        {
         "name": "index",
         "rawType": "int64",
         "type": "integer"
        },
        {
         "name": "0",
         "rawType": "float64",
         "type": "float"
        },
        {
         "name": "1",
         "rawType": "float64",
         "type": "float"
        },
        {
         "name": "2",
         "rawType": "float64",
         "type": "float"
        }
       ],
       "conversionMethod": "pd.DataFrame",
       "ref": "856f3eb5-3717-4b29-b58b-e12e98c1248a",
       "rows": [
        [
         "0",
         "0.3",
         "5.0",
         "0.1"
        ],
        [
         "1",
         "0.3",
         "5.0",
         "0.2"
        ],
        [
         "2",
         "0.3",
         "5.0",
         "0.3"
        ],
        [
         "3",
         "0.3",
         "10.0",
         "0.1"
        ],
        [
         "4",
         "0.3",
         "10.0",
         "0.2"
        ],
        [
         "5",
         "0.3",
         "10.0",
         "0.3"
        ],
        [
         "6",
         "0.3",
         "20.0",
         "0.1"
        ],
        [
         "7",
         "0.3",
         "20.0",
         "0.2"
        ],
        [
         "8",
         "0.3",
         "20.0",
         "0.3"
        ],
        [
         "9",
         "0.35",
         "5.0",
         "0.1"
        ],
        [
         "10",
         "0.35",
         "5.0",
         "0.2"
        ],
        [
         "11",
         "0.35",
         "5.0",
         "0.3"
        ],
        [
         "12",
         "0.35",
         "10.0",
         "0.1"
        ],
        [
         "13",
         "0.35",
         "10.0",
         "0.2"
        ],
        [
         "14",
         "0.35",
         "10.0",
         "0.3"
        ],
        [
         "15",
         "0.35",
         "20.0",
         "0.1"
        ],
        [
         "16",
         "0.35",
         "20.0",
         "0.2"
        ],
        [
         "17",
         "0.35",
         "20.0",
         "0.3"
        ],
        [
         "18",
         "0.4",
         "5.0",
         "0.1"
        ],
        [
         "19",
         "0.4",
         "5.0",
         "0.2"
        ],
        [
         "20",
         "0.4",
         "5.0",
         "0.3"
        ],
        [
         "21",
         "0.4",
         "10.0",
         "0.1"
        ],
        [
         "22",
         "0.4",
         "10.0",
         "0.2"
        ],
        [
         "23",
         "0.4",
         "10.0",
         "0.3"
        ],
        [
         "24",
         "0.4",
         "20.0",
         "0.1"
        ],
        [
         "25",
         "0.4",
         "20.0",
         "0.2"
        ],
        [
         "26",
         "0.4",
         "20.0",
         "0.3"
        ]
       ],
       "shape": {
        "columns": 3,
        "rows": 27
       }
      },
      "text/html": [
       "<div>\n",
       "<style scoped>\n",
       "    .dataframe tbody tr th:only-of-type {\n",
       "        vertical-align: middle;\n",
       "    }\n",
       "\n",
       "    .dataframe tbody tr th {\n",
       "        vertical-align: top;\n",
       "    }\n",
       "\n",
       "    .dataframe thead th {\n",
       "        text-align: right;\n",
       "    }\n",
       "</style>\n",
       "<table border=\"1\" class=\"dataframe\">\n",
       "  <thead>\n",
       "    <tr style=\"text-align: right;\">\n",
       "      <th></th>\n",
       "      <th>0</th>\n",
       "      <th>1</th>\n",
       "      <th>2</th>\n",
       "    </tr>\n",
       "  </thead>\n",
       "  <tbody>\n",
       "    <tr>\n",
       "      <th>0</th>\n",
       "      <td>0.30</td>\n",
       "      <td>5.0</td>\n",
       "      <td>0.1</td>\n",
       "    </tr>\n",
       "    <tr>\n",
       "      <th>1</th>\n",
       "      <td>0.30</td>\n",
       "      <td>5.0</td>\n",
       "      <td>0.2</td>\n",
       "    </tr>\n",
       "    <tr>\n",
       "      <th>2</th>\n",
       "      <td>0.30</td>\n",
       "      <td>5.0</td>\n",
       "      <td>0.3</td>\n",
       "    </tr>\n",
       "    <tr>\n",
       "      <th>3</th>\n",
       "      <td>0.30</td>\n",
       "      <td>10.0</td>\n",
       "      <td>0.1</td>\n",
       "    </tr>\n",
       "    <tr>\n",
       "      <th>4</th>\n",
       "      <td>0.30</td>\n",
       "      <td>10.0</td>\n",
       "      <td>0.2</td>\n",
       "    </tr>\n",
       "    <tr>\n",
       "      <th>5</th>\n",
       "      <td>0.30</td>\n",
       "      <td>10.0</td>\n",
       "      <td>0.3</td>\n",
       "    </tr>\n",
       "    <tr>\n",
       "      <th>6</th>\n",
       "      <td>0.30</td>\n",
       "      <td>20.0</td>\n",
       "      <td>0.1</td>\n",
       "    </tr>\n",
       "    <tr>\n",
       "      <th>7</th>\n",
       "      <td>0.30</td>\n",
       "      <td>20.0</td>\n",
       "      <td>0.2</td>\n",
       "    </tr>\n",
       "    <tr>\n",
       "      <th>8</th>\n",
       "      <td>0.30</td>\n",
       "      <td>20.0</td>\n",
       "      <td>0.3</td>\n",
       "    </tr>\n",
       "    <tr>\n",
       "      <th>9</th>\n",
       "      <td>0.35</td>\n",
       "      <td>5.0</td>\n",
       "      <td>0.1</td>\n",
       "    </tr>\n",
       "    <tr>\n",
       "      <th>10</th>\n",
       "      <td>0.35</td>\n",
       "      <td>5.0</td>\n",
       "      <td>0.2</td>\n",
       "    </tr>\n",
       "    <tr>\n",
       "      <th>11</th>\n",
       "      <td>0.35</td>\n",
       "      <td>5.0</td>\n",
       "      <td>0.3</td>\n",
       "    </tr>\n",
       "    <tr>\n",
       "      <th>12</th>\n",
       "      <td>0.35</td>\n",
       "      <td>10.0</td>\n",
       "      <td>0.1</td>\n",
       "    </tr>\n",
       "    <tr>\n",
       "      <th>13</th>\n",
       "      <td>0.35</td>\n",
       "      <td>10.0</td>\n",
       "      <td>0.2</td>\n",
       "    </tr>\n",
       "    <tr>\n",
       "      <th>14</th>\n",
       "      <td>0.35</td>\n",
       "      <td>10.0</td>\n",
       "      <td>0.3</td>\n",
       "    </tr>\n",
       "    <tr>\n",
       "      <th>15</th>\n",
       "      <td>0.35</td>\n",
       "      <td>20.0</td>\n",
       "      <td>0.1</td>\n",
       "    </tr>\n",
       "    <tr>\n",
       "      <th>16</th>\n",
       "      <td>0.35</td>\n",
       "      <td>20.0</td>\n",
       "      <td>0.2</td>\n",
       "    </tr>\n",
       "    <tr>\n",
       "      <th>17</th>\n",
       "      <td>0.35</td>\n",
       "      <td>20.0</td>\n",
       "      <td>0.3</td>\n",
       "    </tr>\n",
       "    <tr>\n",
       "      <th>18</th>\n",
       "      <td>0.40</td>\n",
       "      <td>5.0</td>\n",
       "      <td>0.1</td>\n",
       "    </tr>\n",
       "    <tr>\n",
       "      <th>19</th>\n",
       "      <td>0.40</td>\n",
       "      <td>5.0</td>\n",
       "      <td>0.2</td>\n",
       "    </tr>\n",
       "    <tr>\n",
       "      <th>20</th>\n",
       "      <td>0.40</td>\n",
       "      <td>5.0</td>\n",
       "      <td>0.3</td>\n",
       "    </tr>\n",
       "    <tr>\n",
       "      <th>21</th>\n",
       "      <td>0.40</td>\n",
       "      <td>10.0</td>\n",
       "      <td>0.1</td>\n",
       "    </tr>\n",
       "    <tr>\n",
       "      <th>22</th>\n",
       "      <td>0.40</td>\n",
       "      <td>10.0</td>\n",
       "      <td>0.2</td>\n",
       "    </tr>\n",
       "    <tr>\n",
       "      <th>23</th>\n",
       "      <td>0.40</td>\n",
       "      <td>10.0</td>\n",
       "      <td>0.3</td>\n",
       "    </tr>\n",
       "    <tr>\n",
       "      <th>24</th>\n",
       "      <td>0.40</td>\n",
       "      <td>20.0</td>\n",
       "      <td>0.1</td>\n",
       "    </tr>\n",
       "    <tr>\n",
       "      <th>25</th>\n",
       "      <td>0.40</td>\n",
       "      <td>20.0</td>\n",
       "      <td>0.2</td>\n",
       "    </tr>\n",
       "    <tr>\n",
       "      <th>26</th>\n",
       "      <td>0.40</td>\n",
       "      <td>20.0</td>\n",
       "      <td>0.3</td>\n",
       "    </tr>\n",
       "  </tbody>\n",
       "</table>\n",
       "</div>"
      ],
      "text/plain": [
       "       0     1    2\n",
       "0   0.30   5.0  0.1\n",
       "1   0.30   5.0  0.2\n",
       "2   0.30   5.0  0.3\n",
       "3   0.30  10.0  0.1\n",
       "4   0.30  10.0  0.2\n",
       "5   0.30  10.0  0.3\n",
       "6   0.30  20.0  0.1\n",
       "7   0.30  20.0  0.2\n",
       "8   0.30  20.0  0.3\n",
       "9   0.35   5.0  0.1\n",
       "10  0.35   5.0  0.2\n",
       "11  0.35   5.0  0.3\n",
       "12  0.35  10.0  0.1\n",
       "13  0.35  10.0  0.2\n",
       "14  0.35  10.0  0.3\n",
       "15  0.35  20.0  0.1\n",
       "16  0.35  20.0  0.2\n",
       "17  0.35  20.0  0.3\n",
       "18  0.40   5.0  0.1\n",
       "19  0.40   5.0  0.2\n",
       "20  0.40   5.0  0.3\n",
       "21  0.40  10.0  0.1\n",
       "22  0.40  10.0  0.2\n",
       "23  0.40  10.0  0.3\n",
       "24  0.40  20.0  0.1\n",
       "25  0.40  20.0  0.2\n",
       "26  0.40  20.0  0.3"
      ]
     },
     "execution_count": 86,
     "metadata": {},
     "output_type": "execute_result"
    }
   ],
   "source": [
    "result"
   ]
  },
  {
   "cell_type": "code",
   "execution_count": 87,
   "metadata": {},
   "outputs": [],
   "source": [
    "result.rename(columns={0:\"Interest Rate\", 1:\"Loan Life\", 2:\"Initial Default\"}, inplace = True)"
   ]
  },
  {
   "cell_type": "code",
   "execution_count": 121,
   "metadata": {},
   "outputs": [],
   "source": [
    "result[\"Inputs\"] = result.apply(lambda row: (row['Interest Rate'], row['Loan Life'], row['Initial Default']), axis=1)"
   ]
  },
  {
   "cell_type": "code",
   "execution_count": 89,
   "metadata": {},
   "outputs": [],
   "source": [
    "sht_irr = book.sheets[2]"
   ]
  },
  {
   "cell_type": "code",
   "execution_count": 123,
   "metadata": {},
   "outputs": [],
   "source": [
    "def irr(inputs: tuple = (.4, 20, .4)):\n",
    "    interest_rate, loan_life, initial_default = inputs\n",
    "    sht.range(\"B3\").value = loan_life\n",
    "    sht.range(\"B4\").value = initial_default\n",
    "    sht.range(\"B8\").value = interest_rate\n",
    "    return sht_irr.range(\"L13\").value\n",
    "    "
   ]
  },
  {
   "cell_type": "code",
   "execution_count": 125,
   "metadata": {},
   "outputs": [],
   "source": [
    "def expected_value(inputs: tuple = (.4, 20, .4), iterations: int = 1000):\n",
    "    lst = []\n",
    "    for _ in range(iterations):\n",
    "        lst.append(irr(inputs))\n",
    "    return sum(lst)/len(lst)"
   ]
  },
  {
   "cell_type": "code",
   "execution_count": 128,
   "metadata": {},
   "outputs": [],
   "source": [
    "def values_from_df(df):\n",
    "    lst = []\n",
    "    for value in df[\"Inputs\"]:\n",
    "        lst.append(expected_value(value, iterations = 100))\n",
    "    return lst"
   ]
  },
  {
   "cell_type": "code",
   "execution_count": 129,
   "metadata": {},
   "outputs": [],
   "source": [
    "values = values_from_df(result)"
   ]
  },
  {
   "cell_type": "code",
   "execution_count": 133,
   "metadata": {},
   "outputs": [],
   "source": [
    "values_1 = values"
   ]
  },
  {
   "cell_type": "code",
   "execution_count": 142,
   "metadata": {},
   "outputs": [],
   "source": [
    "def printing_results(df):\n",
    "    values = values_from_df(df)\n",
    "    for x in range(len(values)):\n",
    "        number = 17 + x\n",
    "        sht.range(f\"G{number}\").value = values[x]\n",
    "    return None"
   ]
  },
  {
   "cell_type": "code",
   "execution_count": 144,
   "metadata": {},
   "outputs": [],
   "source": [
    "printing_results(result)"
   ]
  }
 ],
 "metadata": {
  "kernelspec": {
   "display_name": "myenv",
   "language": "python",
   "name": "python3"
  },
  "language_info": {
   "codemirror_mode": {
    "name": "ipython",
    "version": 3
   },
   "file_extension": ".py",
   "mimetype": "text/x-python",
   "name": "python",
   "nbconvert_exporter": "python",
   "pygments_lexer": "ipython3",
   "version": "3.10.16"
  }
 },
 "nbformat": 4,
 "nbformat_minor": 2
}
