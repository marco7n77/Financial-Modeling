{
 "cells": [
  {
   "cell_type": "markdown",
   "metadata": {},
   "source": [
    "## Retirement Model\n",
    "\n",
    "* [**Setup**](#Setup): Runs imports and other setup\n",
    "* [**Inputs**](#Inputs): Defines the inputs of the model\n",
    "* [**Desired Cash**](#Desired_Cash): Determines desired cash based on annual cash spent during retirement, interest rate and amount of years in retirement.\n",
    "* [**Salaries**](#Salaries): Determines the annual salary based on the cost of living raises and promotions\n",
    "* [**Wealth**](#Wealth): Determine the wealth based on salary at year, investment returns, and savings rate.\n",
    "* [**Retirement**](#Retirement): Determine the years until retirement using wealth and interest rate\n",
    "* [**Results Summary**](#Results_Summary): Summary of the results"
   ]
  },
  {
   "cell_type": "markdown",
   "metadata": {},
   "source": [
    "## Setup\n",
    "Setup for calculations here. "
   ]
  },
  {
   "cell_type": "code",
   "execution_count": 62,
   "metadata": {},
   "outputs": [],
   "source": [
    "from dataclasses import dataclass\n",
    "import numpy_financial as npf\n",
    "import pandas as pd\n",
    "import matplotlib.pyplot as plt"
   ]
  },
  {
   "cell_type": "markdown",
   "metadata": {},
   "source": [
    "## Inputs"
   ]
  },
  {
   "cell_type": "code",
   "execution_count": 63,
   "metadata": {},
   "outputs": [
    {
     "data": {
      "text/plain": [
       "ModelInputs(starting_salary=60000, promos_every_n_years=5, cost_of_living_raise=0.02, promo_raise=0.15, savings_rate=0.25, interest_rate=0.05, annual_cash_spent=40000, amount_of_retirement_years=25)"
      ]
     },
     "execution_count": 63,
     "metadata": {},
     "output_type": "execute_result"
    }
   ],
   "source": [
    "@dataclass\n",
    "class ModelInputs:\n",
    "    starting_salary: int = 60000\n",
    "    promos_every_n_years: int = 5\n",
    "    cost_of_living_raise: float = 0.02\n",
    "    promo_raise: float = 0.15\n",
    "    savings_rate: float = .25\n",
    "    interest_rate: float = .05\n",
    "    annual_cash_spent: int = 40000\n",
    "    amount_of_retirement_years: int = 25\n",
    "model_data = ModelInputs()\n",
    "model_data"
   ]
  },
  {
   "cell_type": "code",
   "execution_count": 64,
   "metadata": {},
   "outputs": [],
   "source": [
    "data = model_data"
   ]
  },
  {
   "cell_type": "code",
   "execution_count": 65,
   "metadata": {},
   "outputs": [
    {
     "data": {
      "text/plain": [
       "60000"
      ]
     },
     "execution_count": 65,
     "metadata": {},
     "output_type": "execute_result"
    }
   ],
   "source": [
    "data.starting_salary"
   ]
  },
  {
   "cell_type": "markdown",
   "metadata": {},
   "source": [
    "## Desired Cash"
   ]
  },
  {
   "cell_type": "code",
   "execution_count": 66,
   "metadata": {},
   "outputs": [],
   "source": [
    "def find_desired_cash(data):\n",
    "    return  npf.pv(data.interest_rate, data.amount_of_retirement_years, -data.annual_cash_spent, 0)"
   ]
  },
  {
   "cell_type": "markdown",
   "metadata": {},
   "source": [
    "## Salaries "
   ]
  },
  {
   "cell_type": "code",
   "execution_count": 67,
   "metadata": {},
   "outputs": [],
   "source": [
    "def salary_at_year(data, year):\n",
    "    \"\"\"\n",
    "    \n",
    "    \"\"\"\n",
    "    num_promos = int(year / data.promos_every_n_years)\n",
    "\n",
    "    salary_t = data.starting_salary * (1 + data.cost_of_living_raise) ** year * (1 + data.promo_raise) ** num_promos\n",
    "    return salary_t"
   ]
  },
  {
   "cell_type": "code",
   "execution_count": 68,
   "metadata": {},
   "outputs": [
    {
     "name": "stdout",
     "output_type": "stream",
     "text": [
      "The salary at Year 1 is $61,200\n",
      "The salary at Year 2 is $62,424\n",
      "The salary at Year 3 is $63,672\n",
      "The salary at Year 4 is $64,946\n",
      "The salary at Year 5 is $76,182\n",
      "The salary at Year 6 is $77,705\n"
     ]
    }
   ],
   "source": [
    "for i in range(6):\n",
    "    year = 1 + i\n",
    "    salary = salary_at_year(data, year)\n",
    "    print(f\"The salary at Year {year} is ${salary:,.0f}\")"
   ]
  },
  {
   "cell_type": "markdown",
   "metadata": {},
   "source": [
    "## Wealth"
   ]
  },
  {
   "cell_type": "code",
   "execution_count": 69,
   "metadata": {},
   "outputs": [],
   "source": [
    "def cash_saved_during_year(data, year):\n",
    "    \"\"\"\n",
    "    \n",
    "    \"\"\"\n",
    "    salary = salary_at_year(data, year)\n",
    "    cash_saved = salary * data.savings_rate\n",
    "    return cash_saved"
   ]
  },
  {
   "cell_type": "code",
   "execution_count": 70,
   "metadata": {},
   "outputs": [],
   "source": [
    "def wealth_at_year(data, year, prior_wealth):\n",
    "    \"\"\"\n",
    "    \n",
    "    \"\"\"\n",
    "    cash_saved = cash_saved_during_year(data, year)\n",
    "    wealth = prior_wealth * (1 + data.interest_rate) + cash_saved\n",
    "    return wealth"
   ]
  },
  {
   "cell_type": "code",
   "execution_count": 71,
   "metadata": {},
   "outputs": [
    {
     "name": "stdout",
     "output_type": "stream",
     "text": [
      "The wealth at Year 1 is $15,300\n",
      "The wealth at Year 2 is $31,671\n",
      "The wealth at Year 3 is $49,173\n",
      "The wealth at Year 4 is $67,868\n",
      "The wealth at Year 5 is $90,307\n",
      "The wealth at Year 6 is $114,248\n"
     ]
    }
   ],
   "source": [
    "prior_wealth = 0\n",
    "for i in range(6):\n",
    "    year = 1 + i\n",
    "    wealth = wealth_at_year(data, year, prior_wealth)\n",
    "    print(f\"The wealth at Year {year} is ${wealth:,.0f}\")\n",
    "\n",
    "    prior_wealth = wealth\n"
   ]
  },
  {
   "cell_type": "markdown",
   "metadata": {},
   "source": [
    "## Retirement"
   ]
  },
  {
   "cell_type": "code",
   "execution_count": 72,
   "metadata": {},
   "outputs": [],
   "source": [
    "def years_to_retirement(data):\n",
    "    \"\"\"\n",
    "    \n",
    "    \"\"\"\n",
    "    prior_wealth = 0\n",
    "    wealth = 0\n",
    "    year = 0\n",
    "    print(\"Wealth over Time\")\n",
    "    desired_cash = find_desired_cash(data)\n",
    "    while wealth < desired_cash:\n",
    "        year +=1 \n",
    "        wealth = wealth_at_year(data, year, prior_wealth)\n",
    "        print(f\"The wealth at Year {year} is ${wealth:,.0f}\")\n",
    "        prior_wealth = wealth\n",
    "    print(\"\\n\\nRetirement\")\n",
    "    print(f\"It will take {year} years to retire\")\n",
    "    return year"
   ]
  },
  {
   "cell_type": "code",
   "execution_count": 73,
   "metadata": {},
   "outputs": [
    {
     "name": "stdout",
     "output_type": "stream",
     "text": [
      "Wealth over Time\n",
      "The wealth at Year 1 is $15,300\n",
      "The wealth at Year 2 is $31,671\n",
      "The wealth at Year 3 is $49,173\n",
      "The wealth at Year 4 is $67,868\n",
      "The wealth at Year 5 is $90,307\n",
      "The wealth at Year 6 is $114,248\n",
      "The wealth at Year 7 is $139,775\n",
      "The wealth at Year 8 is $166,975\n",
      "The wealth at Year 9 is $195,939\n",
      "The wealth at Year 10 is $229,918\n",
      "The wealth at Year 11 is $266,080\n",
      "The wealth at Year 12 is $304,542\n",
      "The wealth at Year 13 is $345,431\n",
      "The wealth at Year 14 is $388,878\n",
      "The wealth at Year 15 is $439,025\n",
      "The wealth at Year 16 is $492,294\n",
      "The wealth at Year 17 is $548,853\n",
      "The wealth at Year 18 is $608,878\n",
      "\n",
      "\n",
      "Retirement\n",
      "It will take 18 years to retire\n"
     ]
    },
    {
     "data": {
      "text/plain": [
       "18"
      ]
     },
     "execution_count": 73,
     "metadata": {},
     "output_type": "execute_result"
    }
   ],
   "source": [
    "ytr = years_to_retirement(data)\n",
    "ytr"
   ]
  },
  {
   "cell_type": "markdown",
   "metadata": {},
   "source": [
    "## Results Summary"
   ]
  },
  {
   "cell_type": "code",
   "execution_count": 82,
   "metadata": {},
   "outputs": [],
   "source": [
    "def get_salaries_wealth_df(data):\n",
    "    prior_wealth = 0\n",
    "    wealth = 0\n",
    "    year = 0\n",
    "    desired_cash = find_desired_cash(data)\n",
    "    df_data_tups = []\n",
    "    while wealth < desired_cash:\n",
    "        year +=1 \n",
    "        salary = salary_at_year(data, year)\n",
    "        wealth = wealth_at_year(data, year, prior_wealth)\n",
    "        prior_wealth = wealth\n",
    "\n",
    "        df_data_tups.append((year, salary, wealth)) \n",
    "    df = pd.DataFrame(df_data_tups, columns=[\"Year\", \"Salary\", \"Wealth\"])\n",
    "    return df"
   ]
  },
  {
   "cell_type": "code",
   "execution_count": 83,
   "metadata": {},
   "outputs": [],
   "source": [
    "df = get_salaries_wealth_df(data)"
   ]
  },
  {
   "cell_type": "code",
   "execution_count": 89,
   "metadata": {},
   "outputs": [],
   "source": [
    "def style_salaries_wealth(df): \n",
    "    return df.style.format({\n",
    "        \"Salary\": \"${:,.0f}\",\n",
    "        \"Wealth\": \"${:,.0f}\"\n",
    "    }).bar(subset=[\"Salary\", \"Wealth\"]).hide()"
   ]
  },
  {
   "cell_type": "code",
   "execution_count": 90,
   "metadata": {},
   "outputs": [
    {
     "data": {
      "text/html": [
       "<style type=\"text/css\">\n",
       "#T_e343c_row0_col1 {\n",
       "  width: 10em;\n",
       "  background: linear-gradient(90deg, #d65f5f 47.0%, transparent 47.0%);\n",
       "}\n",
       "#T_e343c_row0_col2 {\n",
       "  width: 10em;\n",
       "  background: linear-gradient(90deg, #d65f5f 2.5%, transparent 2.5%);\n",
       "}\n",
       "#T_e343c_row1_col1 {\n",
       "  width: 10em;\n",
       "  background: linear-gradient(90deg, #d65f5f 47.9%, transparent 47.9%);\n",
       "}\n",
       "#T_e343c_row1_col2 {\n",
       "  width: 10em;\n",
       "  background: linear-gradient(90deg, #d65f5f 5.2%, transparent 5.2%);\n",
       "}\n",
       "#T_e343c_row2_col1 {\n",
       "  width: 10em;\n",
       "  background: linear-gradient(90deg, #d65f5f 48.9%, transparent 48.9%);\n",
       "}\n",
       "#T_e343c_row2_col2 {\n",
       "  width: 10em;\n",
       "  background: linear-gradient(90deg, #d65f5f 8.1%, transparent 8.1%);\n",
       "}\n",
       "#T_e343c_row3_col1 {\n",
       "  width: 10em;\n",
       "  background: linear-gradient(90deg, #d65f5f 49.8%, transparent 49.8%);\n",
       "}\n",
       "#T_e343c_row3_col2 {\n",
       "  width: 10em;\n",
       "  background: linear-gradient(90deg, #d65f5f 11.1%, transparent 11.1%);\n",
       "}\n",
       "#T_e343c_row4_col1 {\n",
       "  width: 10em;\n",
       "  background: linear-gradient(90deg, #d65f5f 58.5%, transparent 58.5%);\n",
       "}\n",
       "#T_e343c_row4_col2 {\n",
       "  width: 10em;\n",
       "  background: linear-gradient(90deg, #d65f5f 14.8%, transparent 14.8%);\n",
       "}\n",
       "#T_e343c_row5_col1 {\n",
       "  width: 10em;\n",
       "  background: linear-gradient(90deg, #d65f5f 59.6%, transparent 59.6%);\n",
       "}\n",
       "#T_e343c_row5_col2 {\n",
       "  width: 10em;\n",
       "  background: linear-gradient(90deg, #d65f5f 18.8%, transparent 18.8%);\n",
       "}\n",
       "#T_e343c_row6_col1 {\n",
       "  width: 10em;\n",
       "  background: linear-gradient(90deg, #d65f5f 60.8%, transparent 60.8%);\n",
       "}\n",
       "#T_e343c_row6_col2 {\n",
       "  width: 10em;\n",
       "  background: linear-gradient(90deg, #d65f5f 23.0%, transparent 23.0%);\n",
       "}\n",
       "#T_e343c_row7_col1 {\n",
       "  width: 10em;\n",
       "  background: linear-gradient(90deg, #d65f5f 62.0%, transparent 62.0%);\n",
       "}\n",
       "#T_e343c_row7_col2 {\n",
       "  width: 10em;\n",
       "  background: linear-gradient(90deg, #d65f5f 27.4%, transparent 27.4%);\n",
       "}\n",
       "#T_e343c_row8_col1 {\n",
       "  width: 10em;\n",
       "  background: linear-gradient(90deg, #d65f5f 63.3%, transparent 63.3%);\n",
       "}\n",
       "#T_e343c_row8_col2 {\n",
       "  width: 10em;\n",
       "  background: linear-gradient(90deg, #d65f5f 32.2%, transparent 32.2%);\n",
       "}\n",
       "#T_e343c_row9_col1 {\n",
       "  width: 10em;\n",
       "  background: linear-gradient(90deg, #d65f5f 74.2%, transparent 74.2%);\n",
       "}\n",
       "#T_e343c_row9_col2 {\n",
       "  width: 10em;\n",
       "  background: linear-gradient(90deg, #d65f5f 37.8%, transparent 37.8%);\n",
       "}\n",
       "#T_e343c_row10_col1 {\n",
       "  width: 10em;\n",
       "  background: linear-gradient(90deg, #d65f5f 75.7%, transparent 75.7%);\n",
       "}\n",
       "#T_e343c_row10_col2 {\n",
       "  width: 10em;\n",
       "  background: linear-gradient(90deg, #d65f5f 43.7%, transparent 43.7%);\n",
       "}\n",
       "#T_e343c_row11_col1 {\n",
       "  width: 10em;\n",
       "  background: linear-gradient(90deg, #d65f5f 77.2%, transparent 77.2%);\n",
       "}\n",
       "#T_e343c_row11_col2 {\n",
       "  width: 10em;\n",
       "  background: linear-gradient(90deg, #d65f5f 50.0%, transparent 50.0%);\n",
       "}\n",
       "#T_e343c_row12_col1 {\n",
       "  width: 10em;\n",
       "  background: linear-gradient(90deg, #d65f5f 78.8%, transparent 78.8%);\n",
       "}\n",
       "#T_e343c_row12_col2 {\n",
       "  width: 10em;\n",
       "  background: linear-gradient(90deg, #d65f5f 56.7%, transparent 56.7%);\n",
       "}\n",
       "#T_e343c_row13_col1 {\n",
       "  width: 10em;\n",
       "  background: linear-gradient(90deg, #d65f5f 80.3%, transparent 80.3%);\n",
       "}\n",
       "#T_e343c_row13_col2 {\n",
       "  width: 10em;\n",
       "  background: linear-gradient(90deg, #d65f5f 63.9%, transparent 63.9%);\n",
       "}\n",
       "#T_e343c_row14_col1 {\n",
       "  width: 10em;\n",
       "  background: linear-gradient(90deg, #d65f5f 94.2%, transparent 94.2%);\n",
       "}\n",
       "#T_e343c_row14_col2 {\n",
       "  width: 10em;\n",
       "  background: linear-gradient(90deg, #d65f5f 72.1%, transparent 72.1%);\n",
       "}\n",
       "#T_e343c_row15_col1 {\n",
       "  width: 10em;\n",
       "  background: linear-gradient(90deg, #d65f5f 96.1%, transparent 96.1%);\n",
       "}\n",
       "#T_e343c_row15_col2 {\n",
       "  width: 10em;\n",
       "  background: linear-gradient(90deg, #d65f5f 80.9%, transparent 80.9%);\n",
       "}\n",
       "#T_e343c_row16_col1 {\n",
       "  width: 10em;\n",
       "  background: linear-gradient(90deg, #d65f5f 98.0%, transparent 98.0%);\n",
       "}\n",
       "#T_e343c_row16_col2 {\n",
       "  width: 10em;\n",
       "  background: linear-gradient(90deg, #d65f5f 90.1%, transparent 90.1%);\n",
       "}\n",
       "#T_e343c_row17_col1, #T_e343c_row17_col2 {\n",
       "  width: 10em;\n",
       "  background: linear-gradient(90deg, #d65f5f 100.0%, transparent 100.0%);\n",
       "}\n",
       "</style>\n",
       "<table id=\"T_e343c\">\n",
       "  <thead>\n",
       "    <tr>\n",
       "      <th id=\"T_e343c_level0_col0\" class=\"col_heading level0 col0\" >Year</th>\n",
       "      <th id=\"T_e343c_level0_col1\" class=\"col_heading level0 col1\" >Salary</th>\n",
       "      <th id=\"T_e343c_level0_col2\" class=\"col_heading level0 col2\" >Wealth</th>\n",
       "    </tr>\n",
       "  </thead>\n",
       "  <tbody>\n",
       "    <tr>\n",
       "      <td id=\"T_e343c_row0_col0\" class=\"data row0 col0\" >1</td>\n",
       "      <td id=\"T_e343c_row0_col1\" class=\"data row0 col1\" >$61,200</td>\n",
       "      <td id=\"T_e343c_row0_col2\" class=\"data row0 col2\" >$15,300</td>\n",
       "    </tr>\n",
       "    <tr>\n",
       "      <td id=\"T_e343c_row1_col0\" class=\"data row1 col0\" >2</td>\n",
       "      <td id=\"T_e343c_row1_col1\" class=\"data row1 col1\" >$62,424</td>\n",
       "      <td id=\"T_e343c_row1_col2\" class=\"data row1 col2\" >$31,671</td>\n",
       "    </tr>\n",
       "    <tr>\n",
       "      <td id=\"T_e343c_row2_col0\" class=\"data row2 col0\" >3</td>\n",
       "      <td id=\"T_e343c_row2_col1\" class=\"data row2 col1\" >$63,672</td>\n",
       "      <td id=\"T_e343c_row2_col2\" class=\"data row2 col2\" >$49,173</td>\n",
       "    </tr>\n",
       "    <tr>\n",
       "      <td id=\"T_e343c_row3_col0\" class=\"data row3 col0\" >4</td>\n",
       "      <td id=\"T_e343c_row3_col1\" class=\"data row3 col1\" >$64,946</td>\n",
       "      <td id=\"T_e343c_row3_col2\" class=\"data row3 col2\" >$67,868</td>\n",
       "    </tr>\n",
       "    <tr>\n",
       "      <td id=\"T_e343c_row4_col0\" class=\"data row4 col0\" >5</td>\n",
       "      <td id=\"T_e343c_row4_col1\" class=\"data row4 col1\" >$76,182</td>\n",
       "      <td id=\"T_e343c_row4_col2\" class=\"data row4 col2\" >$90,307</td>\n",
       "    </tr>\n",
       "    <tr>\n",
       "      <td id=\"T_e343c_row5_col0\" class=\"data row5 col0\" >6</td>\n",
       "      <td id=\"T_e343c_row5_col1\" class=\"data row5 col1\" >$77,705</td>\n",
       "      <td id=\"T_e343c_row5_col2\" class=\"data row5 col2\" >$114,248</td>\n",
       "    </tr>\n",
       "    <tr>\n",
       "      <td id=\"T_e343c_row6_col0\" class=\"data row6 col0\" >7</td>\n",
       "      <td id=\"T_e343c_row6_col1\" class=\"data row6 col1\" >$79,259</td>\n",
       "      <td id=\"T_e343c_row6_col2\" class=\"data row6 col2\" >$139,775</td>\n",
       "    </tr>\n",
       "    <tr>\n",
       "      <td id=\"T_e343c_row7_col0\" class=\"data row7 col0\" >8</td>\n",
       "      <td id=\"T_e343c_row7_col1\" class=\"data row7 col1\" >$80,844</td>\n",
       "      <td id=\"T_e343c_row7_col2\" class=\"data row7 col2\" >$166,975</td>\n",
       "    </tr>\n",
       "    <tr>\n",
       "      <td id=\"T_e343c_row8_col0\" class=\"data row8 col0\" >9</td>\n",
       "      <td id=\"T_e343c_row8_col1\" class=\"data row8 col1\" >$82,461</td>\n",
       "      <td id=\"T_e343c_row8_col2\" class=\"data row8 col2\" >$195,939</td>\n",
       "    </tr>\n",
       "    <tr>\n",
       "      <td id=\"T_e343c_row9_col0\" class=\"data row9 col0\" >10</td>\n",
       "      <td id=\"T_e343c_row9_col1\" class=\"data row9 col1\" >$96,727</td>\n",
       "      <td id=\"T_e343c_row9_col2\" class=\"data row9 col2\" >$229,918</td>\n",
       "    </tr>\n",
       "    <tr>\n",
       "      <td id=\"T_e343c_row10_col0\" class=\"data row10 col0\" >11</td>\n",
       "      <td id=\"T_e343c_row10_col1\" class=\"data row10 col1\" >$98,662</td>\n",
       "      <td id=\"T_e343c_row10_col2\" class=\"data row10 col2\" >$266,080</td>\n",
       "    </tr>\n",
       "    <tr>\n",
       "      <td id=\"T_e343c_row11_col0\" class=\"data row11 col0\" >12</td>\n",
       "      <td id=\"T_e343c_row11_col1\" class=\"data row11 col1\" >$100,635</td>\n",
       "      <td id=\"T_e343c_row11_col2\" class=\"data row11 col2\" >$304,542</td>\n",
       "    </tr>\n",
       "    <tr>\n",
       "      <td id=\"T_e343c_row12_col0\" class=\"data row12 col0\" >13</td>\n",
       "      <td id=\"T_e343c_row12_col1\" class=\"data row12 col1\" >$102,648</td>\n",
       "      <td id=\"T_e343c_row12_col2\" class=\"data row12 col2\" >$345,431</td>\n",
       "    </tr>\n",
       "    <tr>\n",
       "      <td id=\"T_e343c_row13_col0\" class=\"data row13 col0\" >14</td>\n",
       "      <td id=\"T_e343c_row13_col1\" class=\"data row13 col1\" >$104,701</td>\n",
       "      <td id=\"T_e343c_row13_col2\" class=\"data row13 col2\" >$388,878</td>\n",
       "    </tr>\n",
       "    <tr>\n",
       "      <td id=\"T_e343c_row14_col0\" class=\"data row14 col0\" >15</td>\n",
       "      <td id=\"T_e343c_row14_col1\" class=\"data row14 col1\" >$122,814</td>\n",
       "      <td id=\"T_e343c_row14_col2\" class=\"data row14 col2\" >$439,025</td>\n",
       "    </tr>\n",
       "    <tr>\n",
       "      <td id=\"T_e343c_row15_col0\" class=\"data row15 col0\" >16</td>\n",
       "      <td id=\"T_e343c_row15_col1\" class=\"data row15 col1\" >$125,270</td>\n",
       "      <td id=\"T_e343c_row15_col2\" class=\"data row15 col2\" >$492,294</td>\n",
       "    </tr>\n",
       "    <tr>\n",
       "      <td id=\"T_e343c_row16_col0\" class=\"data row16 col0\" >17</td>\n",
       "      <td id=\"T_e343c_row16_col1\" class=\"data row16 col1\" >$127,776</td>\n",
       "      <td id=\"T_e343c_row16_col2\" class=\"data row16 col2\" >$548,853</td>\n",
       "    </tr>\n",
       "    <tr>\n",
       "      <td id=\"T_e343c_row17_col0\" class=\"data row17 col0\" >18</td>\n",
       "      <td id=\"T_e343c_row17_col1\" class=\"data row17 col1\" >$130,331</td>\n",
       "      <td id=\"T_e343c_row17_col2\" class=\"data row17 col2\" >$608,878</td>\n",
       "    </tr>\n",
       "  </tbody>\n",
       "</table>\n"
      ],
      "text/plain": [
       "<pandas.io.formats.style.Styler at 0x13486a530>"
      ]
     },
     "execution_count": 90,
     "metadata": {},
     "output_type": "execute_result"
    }
   ],
   "source": [
    "style_salaries_wealth(df)"
   ]
  },
  {
   "cell_type": "code",
   "execution_count": 91,
   "metadata": {},
   "outputs": [
    {
     "data": {
      "text/plain": [
       "<Axes: xlabel='Year'>"
      ]
     },
     "execution_count": 91,
     "metadata": {},
     "output_type": "execute_result"
    },
    {
     "data": {
      "image/png": "[encoded data removed]",
      "text/plain": [
       "<Figure size 640x480 with 1 Axes>"
      ]
     },
     "metadata": {},
     "output_type": "display_data"
    }
   ],
   "source": [
    "df.plot.line(x = \"Year\", y = \"Salary\")"
   ]
  },
  {
   "cell_type": "code",
   "execution_count": 92,
   "metadata": {},
   "outputs": [
    {
     "data": {
      "text/plain": [
       "<Axes: xlabel='Year'>"
      ]
     },
     "execution_count": 92,
     "metadata": {},
     "output_type": "execute_result"
    },
    {
     "data": {
      "image/png": "[encoded data removed]",
      "text/plain": [
       "<Figure size 640x480 with 1 Axes>"
      ]
     },
     "metadata": {},
     "output_type": "display_data"
    }
   ],
   "source": [
    " df.plot.bar(x = \"Year\", y = \"Wealth\")"
   ]
  },
  {
   "cell_type": "code",
   "execution_count": null,
   "metadata": {},
   "outputs": [],
   "source": [
    " "
   ]
  }
 ],
 "metadata": {
  "kernelspec": {
   "display_name": "myenv",
   "language": "python",
   "name": "python3"
  },
  "language_info": {
   "codemirror_mode": {
    "name": "ipython",
    "version": 3
   },
   "file_extension": ".py",
   "mimetype": "text/x-python",
   "name": "python",
   "nbconvert_exporter": "python",
   "pygments_lexer": "ipython3",
   "version": "3.10.16"
  }
 },
 "nbformat": 4,
 "nbformat_minor": 2
}
