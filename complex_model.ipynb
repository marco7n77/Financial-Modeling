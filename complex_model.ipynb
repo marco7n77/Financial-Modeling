{
 "cells": [
  {
   "cell_type": "markdown",
   "metadata": {},
   "source": [
    "## Retirement Model\n",
    "\n",
    "* [**Setup**](#Setup): Runs imports and other setup\n",
    "* [**Inputs**](#Inputs): Defines the inputs of the model\n",
    "* [**Desired Cash**](#Desired_Cash): Determines desired cash based on annual cash spent during retirement, interest rate and amount of years in retirement.\n",
    "* [**Salaries**](#Salaries): Determines the annual salary based on the cost of living raises and promotions\n",
    "* [**Wealth**](#Wealth): Determine the wealth based on salary at year, investment returns, and savings rate.\n",
    "* [**Retirement**](#Retirement): Determine the years until retirement using wealth and interest rate"
   ]
  },
  {
   "cell_type": "markdown",
   "metadata": {},
   "source": [
    "## Setup\n",
    "Setup for calculations here. "
   ]
  },
  {
   "cell_type": "code",
   "execution_count": 54,
   "metadata": {},
   "outputs": [],
   "source": [
    "from dataclasses import dataclass\n",
    "import numpy_financial as npf"
   ]
  },
  {
   "cell_type": "markdown",
   "metadata": {},
   "source": [
    "## Inputs"
   ]
  },
  {
   "cell_type": "code",
   "execution_count": 55,
   "metadata": {},
   "outputs": [
    {
     "data": {
      "text/plain": [
       "ModelInputs(starting_salary=60000, promos_every_n_years=5, cost_of_living_raise=0.02, promo_raise=0.15, savings_rate=0.25, interest_rate=0.05, annual_cash_spent=40000, amount_of_retirement_years=25)"
      ]
     },
     "execution_count": 55,
     "metadata": {},
     "output_type": "execute_result"
    }
   ],
   "source": [
    "@dataclass\n",
    "class ModelInputs:\n",
    "    starting_salary: int = 60000\n",
    "    promos_every_n_years: int = 5\n",
    "    cost_of_living_raise: float = 0.02\n",
    "    promo_raise: float = 0.15\n",
    "    savings_rate: float = .25\n",
    "    interest_rate: float = .05\n",
    "    annual_cash_spent: int = 40000\n",
    "    amount_of_retirement_years: int = 25\n",
    "model_data = ModelInputs()\n",
    "model_data"
   ]
  },
  {
   "cell_type": "code",
   "execution_count": 56,
   "metadata": {},
   "outputs": [],
   "source": [
    "data = model_data"
   ]
  },
  {
   "cell_type": "code",
   "execution_count": 57,
   "metadata": {},
   "outputs": [
    {
     "data": {
      "text/plain": [
       "60000"
      ]
     },
     "execution_count": 57,
     "metadata": {},
     "output_type": "execute_result"
    }
   ],
   "source": [
    "data.starting_salary"
   ]
  },
  {
   "cell_type": "markdown",
   "metadata": {},
   "source": [
    "## Desired Cash"
   ]
  },
  {
   "cell_type": "code",
   "execution_count": 58,
   "metadata": {},
   "outputs": [
    {
     "data": {
      "text/plain": [
       "563757.7826417905"
      ]
     },
     "execution_count": 58,
     "metadata": {},
     "output_type": "execute_result"
    }
   ],
   "source": [
    "def find_desired_cash(data):\n",
    "    return  npf.pv(data.interest_rate, data.amount_of_retirement_years, -data.annual_cash_spent, 0)"
   ]
  },
  {
   "cell_type": "markdown",
   "metadata": {},
   "source": [
    "## Salaries "
   ]
  },
  {
   "cell_type": "code",
   "execution_count": 41,
   "metadata": {},
   "outputs": [],
   "source": [
    "def salary_at_year(data, year):\n",
    "    \"\"\"\n",
    "    \n",
    "    \"\"\"\n",
    "    num_promos = int(year / data.promos_every_n_years)\n",
    "\n",
    "    salary_t = data.starting_salary * (1 + data.cost_of_living_raise) ** year * (1 + data.promo_raise) ** num_promos\n",
    "    return salary_t"
   ]
  },
  {
   "cell_type": "code",
   "execution_count": 42,
   "metadata": {},
   "outputs": [
    {
     "name": "stdout",
     "output_type": "stream",
     "text": [
      "The salary at Year 1 is $61,200\n",
      "The salary at Year 2 is $62,424\n",
      "The salary at Year 3 is $63,672\n",
      "The salary at Year 4 is $64,946\n",
      "The salary at Year 5 is $76,182\n",
      "The salary at Year 6 is $77,705\n"
     ]
    }
   ],
   "source": [
    "for i in range(6):\n",
    "    year = 1 + i\n",
    "    salary = salary_at_year(data, year)\n",
    "    print(f\"The salary at Year {year} is ${salary:,.0f}\")"
   ]
  },
  {
   "cell_type": "markdown",
   "metadata": {},
   "source": [
    "## Wealth"
   ]
  },
  {
   "cell_type": "code",
   "execution_count": 43,
   "metadata": {},
   "outputs": [],
   "source": [
    "def cash_saved_during_year(data, year):\n",
    "    \"\"\"\n",
    "    \n",
    "    \"\"\"\n",
    "    salary = salary_at_year(data, year)\n",
    "    cash_saved = salary * data.savings_rate\n",
    "    return cash_saved"
   ]
  },
  {
   "cell_type": "code",
   "execution_count": 44,
   "metadata": {},
   "outputs": [],
   "source": [
    "def wealth_at_year(data, year, prior_wealth):\n",
    "    \"\"\"\n",
    "    \n",
    "    \"\"\"\n",
    "    cash_saved = cash_saved_during_year(data, year)\n",
    "    wealth = prior_wealth * (1 + data.interest_rate) + cash_saved\n",
    "    return wealth"
   ]
  },
  {
   "cell_type": "code",
   "execution_count": 45,
   "metadata": {},
   "outputs": [
    {
     "name": "stdout",
     "output_type": "stream",
     "text": [
      "The wealth at Year 1 is $15,300\n",
      "The wealth at Year 2 is $31,671\n",
      "The wealth at Year 3 is $49,173\n",
      "The wealth at Year 4 is $67,868\n",
      "The wealth at Year 5 is $90,307\n",
      "The wealth at Year 6 is $114,248\n"
     ]
    }
   ],
   "source": [
    "prior_wealth = 0\n",
    "for i in range(6):\n",
    "    year = 1 + i\n",
    "    wealth = wealth_at_year(data, year, prior_wealth)\n",
    "    print(f\"The wealth at Year {year} is ${wealth:,.0f}\")\n",
    "\n",
    "    prior_wealth = wealth\n"
   ]
  },
  {
   "cell_type": "markdown",
   "metadata": {},
   "source": [
    "## Retirement"
   ]
  },
  {
   "cell_type": "code",
   "execution_count": 59,
   "metadata": {},
   "outputs": [],
   "source": [
    "def years_to_retirement(data):\n",
    "    \"\"\"\n",
    "    \n",
    "    \"\"\"\n",
    "    prior_wealth = 0\n",
    "    wealth = 0\n",
    "    year = 0\n",
    "    print(\"Wealth over Time\")\n",
    "    desired_cash = find_desired_cash(data)\n",
    "    while wealth < desired_cash:\n",
    "        year +=1 \n",
    "        wealth = wealth_at_year(data, year, prior_wealth)\n",
    "        print(f\"The wealth at Year {year} is ${wealth:,.0f}\")\n",
    "        prior_wealth = wealth\n",
    "    print(\"\\n\\nRetirement\")\n",
    "    print(f\"It will take {year} years to retire\")\n",
    "    return year"
   ]
  },
  {
   "cell_type": "code",
   "execution_count": 60,
   "metadata": {},
   "outputs": [
    {
     "name": "stdout",
     "output_type": "stream",
     "text": [
      "Wealth over Time\n",
      "The wealth at Year 1 is $15,300\n",
      "The wealth at Year 2 is $31,671\n",
      "The wealth at Year 3 is $49,173\n",
      "The wealth at Year 4 is $67,868\n",
      "The wealth at Year 5 is $90,307\n",
      "The wealth at Year 6 is $114,248\n",
      "The wealth at Year 7 is $139,775\n",
      "The wealth at Year 8 is $166,975\n",
      "The wealth at Year 9 is $195,939\n",
      "The wealth at Year 10 is $229,918\n",
      "The wealth at Year 11 is $266,080\n",
      "The wealth at Year 12 is $304,542\n",
      "The wealth at Year 13 is $345,431\n",
      "The wealth at Year 14 is $388,878\n",
      "The wealth at Year 15 is $439,025\n",
      "The wealth at Year 16 is $492,294\n",
      "The wealth at Year 17 is $548,853\n",
      "The wealth at Year 18 is $608,878\n",
      "\n",
      "\n",
      "Retirement\n",
      "It will take 18 years to retire\n"
     ]
    },
    {
     "data": {
      "text/plain": [
       "18"
      ]
     },
     "execution_count": 60,
     "metadata": {},
     "output_type": "execute_result"
    }
   ],
   "source": [
    "ytr = years_to_retirement(data)\n",
    "ytr"
   ]
  }
 ],
 "metadata": {
  "kernelspec": {
   "display_name": "myenv",
   "language": "python",
   "name": "python3"
  },
  "language_info": {
   "codemirror_mode": {
    "name": "ipython",
    "version": 3
   },
   "file_extension": ".py",
   "mimetype": "text/x-python",
   "name": "python",
   "nbconvert_exporter": "python",
   "pygments_lexer": "ipython3",
   "version": "3.10.16"
  }
 },
 "nbformat": 4,
 "nbformat_minor": 2
}
