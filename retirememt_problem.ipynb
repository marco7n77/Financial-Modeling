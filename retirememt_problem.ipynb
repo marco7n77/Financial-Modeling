{
 "cells": [
  {
   "cell_type": "markdown",
   "metadata": {},
   "source": [
    "# Dynamic Retirement Solution\n",
    "* [**Setup**](#Setup): The imports and other setup\n",
    "* [**Inputs**](#Inputs): The inputs of the model\n",
    "* [**Salary**](#Salary): The calculation of salary using starting, and salary growth rate\n",
    "* [**Wealth**](#Wealth): The calculation of wealth using salary, salary cutoff, savings rate, and interest rate"
   ]
  },
  {
   "cell_type": "markdown",
   "metadata": {},
   "source": [
    "## Setup"
   ]
  },
  {
   "cell_type": "code",
   "execution_count": 44,
   "metadata": {},
   "outputs": [],
   "source": [
    "import numpy_financial as npf\n",
    "from dataclasses import dataclass"
   ]
  },
  {
   "cell_type": "markdown",
   "metadata": {},
   "source": [
    "## Inputs"
   ]
  },
  {
   "cell_type": "code",
   "execution_count": 45,
   "metadata": {},
   "outputs": [],
   "source": [
    "@dataclass\n",
    "class ModelInputs:\n",
    "    starting_salary: int = 50000\n",
    "    salary_growth: float = .03\n",
    "    mid_salary_cutoff: int = 80000\n",
    "    high_salary_cutoff: int = 120000\n",
    "    low_savings_rate: float = .1\n",
    "    mid_savings_rate: float = .25\n",
    "    high_savings_rate: float = .40\n",
    "    interest_rate: float = .05\n",
    "    desired_cash: int = 1500000\n",
    "data = ModelInputs()"
   ]
  },
  {
   "cell_type": "markdown",
   "metadata": {},
   "source": [
    "## Salary"
   ]
  },
  {
   "cell_type": "code",
   "execution_count": 46,
   "metadata": {},
   "outputs": [],
   "source": [
    "def finding_salary(data, year):\n",
    "    \"\"\"\n",
    "    This function finds the salary using year and growth rate\"\"\"\n",
    "    salary = data.starting_salary\n",
    "    return salary * (1 + data.salary_growth)**year"
   ]
  },
  {
   "cell_type": "code",
   "execution_count": 55,
   "metadata": {},
   "outputs": [
    {
     "name": "stdout",
     "output_type": "stream",
     "text": [
      "The salary at year 1 is $51,500.\n",
      "The salary at year 2 is $53,045.\n",
      "The salary at year 3 is $54,636.\n",
      "The salary at year 4 is $56,275.\n",
      "The salary at year 5 is $57,964.\n",
      "The salary at year 6 is $59,703.\n",
      "The salary at year 7 is $61,494.\n",
      "The salary at year 8 is $63,339.\n",
      "The salary at year 9 is $65,239.\n",
      "The salary at year 10 is $67,196.\n",
      "The salary at year 11 is $69,212.\n",
      "The salary at year 12 is $71,288.\n",
      "The salary at year 13 is $73,427.\n",
      "The salary at year 14 is $75,629.\n",
      "The salary at year 15 is $77,898.\n",
      "The salary at year 16 is $80,235.\n",
      "The salary at year 17 is $82,642.\n",
      "The salary at year 18 is $85,122.\n",
      "The salary at year 19 is $87,675.\n",
      "The salary at year 20 is $90,306.\n"
     ]
    }
   ],
   "source": [
    "for i in range(20):\n",
    "    year = i + 1\n",
    "    salary = finding_salary(data, year)\n",
    "    print(f'The salary at year {year} is ${salary:,.0f}.')"
   ]
  },
  {
   "cell_type": "markdown",
   "metadata": {},
   "source": [
    "## Wealth"
   ]
  },
  {
   "cell_type": "code",
   "execution_count": 56,
   "metadata": {},
   "outputs": [],
   "source": [
    "def salary_cutoff(data, salary):\n",
    "    \"\"\"\n",
    "    The salary cutoff determines the percentage of money saved\n",
    "    \"\"\"\n",
    "    mid_salary = data.mid_salary_cutoff\n",
    "    high_salary = data.high_salary_cutoff\n",
    "    if salary < mid_salary:\n",
    "        return data.low_savings_rate\n",
    "    elif mid_salary <= salary < high_salary:\n",
    "        return data.mid_savings_rate\n",
    "    else:\n",
    "        return data.high_savings_rate"
   ]
  },
  {
   "cell_type": "code",
   "execution_count": 48,
   "metadata": {},
   "outputs": [],
   "source": [
    "def find_cash_saved(data, year):\n",
    "    salary = finding_salary(data, year)\n",
    "    savings_rate = salary_cutoff(data, salary) \n",
    "    return salary * savings_rate"
   ]
  },
  {
   "cell_type": "code",
   "execution_count": 49,
   "metadata": {},
   "outputs": [],
   "source": [
    "def finding_wealth(data, year, prior_wealth):\n",
    "        cash_saved = find_cash_saved(data, year)\n",
    "        return prior_wealth * (1 + data.interest_rate) + cash_saved"
   ]
  },
  {
   "cell_type": "code",
   "execution_count": 57,
   "metadata": {},
   "outputs": [
    {
     "name": "stdout",
     "output_type": "stream",
     "text": [
      "Year 1: $5,150.00\n",
      "Year 2: $10,712.00\n",
      "Year 3: $16,711.24\n",
      "Year 4: $23,174.34\n",
      "Year 5: $30,129.43\n",
      "Year 6: $37,606.16\n",
      "Year 7: $45,635.84\n",
      "Year 8: $54,251.48\n",
      "Year 9: $63,487.92\n",
      "Year 10: $73,381.90\n",
      "Year 11: $83,972.16\n",
      "Year 12: $95,299.58\n",
      "Year 13: $107,407.22\n",
      "Year 14: $120,340.53\n",
      "Year 15: $134,147.40\n",
      "Year 16: $160,913.60\n",
      "Year 17: $189,619.87\n",
      "Year 18: $220,381.28\n",
      "Year 19: $253,319.17\n",
      "Year 20: $288,561.52\n"
     ]
    }
   ],
   "source": [
    "prior_wealth = 0\n",
    "for i in range(20):\n",
    "    year = i + 1\n",
    "    wealth = finding_wealth(data, year, prior_wealth)\n",
    "    print(f\"Year {year}: ${wealth:,.2f}\")\n",
    "    prior_wealth = wealth"
   ]
  },
  {
   "cell_type": "markdown",
   "metadata": {},
   "source": [
    "## Retirement"
   ]
  },
  {
   "cell_type": "code",
   "execution_count": 61,
   "metadata": {},
   "outputs": [],
   "source": [
    "def find_retirement(data):\n",
    "    prior_wealth = 0\n",
    "    wealth = 0\n",
    "    year = 0\n",
    "    while wealth < data.desired_cash:\n",
    "        year += 1\n",
    "        wealth = finding_wealth(data, year, prior_wealth)\n",
    "        prior_wealth = wealth\n",
    "    print(f\"They will retire in {year} years.\")\n",
    "    return year"
   ]
  },
  {
   "cell_type": "code",
   "execution_count": 62,
   "metadata": {},
   "outputs": [
    {
     "name": "stdout",
     "output_type": "stream",
     "text": [
      "They will retire in 37 years.\n"
     ]
    },
    {
     "data": {
      "text/plain": [
       "37"
      ]
     },
     "execution_count": 62,
     "metadata": {},
     "output_type": "execute_result"
    }
   ],
   "source": [
    "find_retirement(data)"
   ]
  }
 ],
 "metadata": {
  "kernelspec": {
   "display_name": "myenv",
   "language": "python",
   "name": "python3"
  },
  "language_info": {
   "codemirror_mode": {
    "name": "ipython",
    "version": 3
   },
   "file_extension": ".py",
   "mimetype": "text/x-python",
   "name": "python",
   "nbconvert_exporter": "python",
   "pygments_lexer": "ipython3",
   "version": "3.10.16"
  }
 },
 "nbformat": 4,
 "nbformat_minor": 2
}
